{
  "nbformat": 4,
  "nbformat_minor": 0,
  "metadata": {
    "colab": {
      "name": "Untitled1.ipynb",
      "provenance": [],
      "toc_visible": true,
      "authorship_tag": "ABX9TyMw/3FbpQeYBA4D41/F891a",
      "include_colab_link": true
    },
    "kernelspec": {
      "name": "python3",
      "display_name": "Python 3"
    },
    "language_info": {
      "name": "python"
    }
  },
  "cells": [
    {
      "cell_type": "markdown",
      "metadata": {
        "id": "view-in-github",
        "colab_type": "text"
      },
      "source": [
        "<a href=\"https://colab.research.google.com/github/beisaa/beisaa/blob/main/Untitled2.ipynb\" target=\"_parent\"><img src=\"https://colab.research.google.com/assets/colab-badge.svg\" alt=\"Open In Colab\"/></a>"
      ]
    },
    {
      "cell_type": "markdown",
      "source": [
        "# Analyse the energy diagrams of proton scattering by a heavy nucleus\n",
        "<i>prepared by Beyzanur Erol (120519054)</i> 30/06/2022"
      ],
      "metadata": {
        "id": "19UXN5rm3gXq"
      }
    },
    {
      "cell_type": "markdown",
      "source": [
        "A proton approaches a very massive nucleus of charge Ze. At infinite separation the energy of the proton is $\\frac{1}{2}M_pV_0^2$. \n",
        "\n",
        "The initial angular momentum of the proton taken about the heavy nucleus is $M_pV_0b$, where $V_0$ is the initial velocity of the proton. At the distance of closest approach, denoted by s, the angular momentum is $M_pV_ss$, where vs is the velocity at this point.\n",
        "\n",
        "$$\n",
        "M_pV_0b = M_pV_ss     \\qquad     V_s = \\frac{V_0 b}{s}\n",
        "$$\n",
        "\n",
        "Suppose a head-on elastic collision occurs between two proton(1 and 2) on a track. We want to know the final velocities for both the proton, but are only given the initial velocities $V_i$. Applying conservation of momentum we can see that we have one equation with two unknowns, V1f and V2f.\n",
        "\n",
        "$$\n",
        "mV_i = m_2V_{2_f} + m_1V_{1_f}\n",
        "$$\n",
        "\n",
        "x direction\n",
        "\n",
        "$$\n",
        "mV_i = m_1V_{1_f} cosΦ +  m_2V_{2_f} cosθ\n",
        "$$\n",
        "\n",
        "y direction\n",
        "\n",
        "$$\n",
        "0 = m_1V_{1_f} sinΦ +  m_2V_{2_f} sinθ\n",
        "$$\n",
        "\n",
        "If we arrange the two equations and solve them with the matrix method\n",
        "\n",
        "$$\n",
        "\\pmatrix{\n",
        "\\mathbf{m_1cosΦ} & \\mathbf{m_2cosθ}  \\\\\n",
        "\\mathbf{-m_1sinΦ} & \\mathbf{m_2sinθ} \n",
        "} \\times\n",
        "\\pmatrix{\n",
        "\\mathbf{V_{1_f}} \\\\\n",
        "\\mathbf{V_{2_f}} \n",
        "} = \\pmatrix{\n",
        "\\mathbf{mV_i} \\\\\n",
        "\\mathbf{0} \n",
        "}\n",
        "$$\n",
        "\n",
        "\n",
        "\n",
        "\n",
        "If we analyze the matrix, we find $V_{1_f}$ and $V_{1_f}$. If we substitute these velocity values ​​we found in the K.E formula, we find $K.E_1$ and $K.E_2$.\n",
        "\n",
        "$$\n",
        "K.E_1 = \\frac{1}{2}m_1V_{1_f} \\\\\n",
        "\\\\\n",
        "K.E_1 = \\frac{1}{2}m_1V_{1_f}\n",
        "$$\n",
        "\n"
      ],
      "metadata": {
        "id": "Qk9T9a_jMIYG"
      }
    },
    {
      "cell_type": "markdown",
      "source": [
        "# Codes"
      ],
      "metadata": {
        "id": "nr7EOH6ELk5G"
      }
    },
    {
      "cell_type": "code",
      "source": [
        "import numpy as np\n",
        "from numpy import sin,cos\n",
        "from matplotlib import pyplot as plt\n",
        "vi = 1\n",
        "m1 = 1\n",
        "m2 = 20\n",
        "theta = 1\n",
        "N = 50\n",
        "dphi = 1/N\n",
        "\n",
        "phi = np.linspace(dphi,np.pi-dphi,N)\n",
        "\n",
        "v1f = []\n",
        "v2f = []\n",
        "for i in range(len(phi)):\n",
        "    A = np.array([[m1 * cos(phi[i]), m2 * cos(theta)],[-m1 * sin(phi[i]), m2 * sin(theta)]])\n",
        "    b = np.array([m1 * vi, 0])\n",
        "    v1,v2 = np.linalg.solve(A, b)\n",
        "    v1f.append(v1)\n",
        "    v2f.append(v2)\n",
        "\n",
        "# plt.xlabel(\"phi\")\n",
        "# plt.ylabel(\"Kinetic Energy\")\n",
        "\n",
        "# plt.plot(phi, v1f, color=\"blue\")\n",
        "# plt.plot(phi, v2f, color=\"red\")\n",
        "\n",
        "# plt.plot(phi,0.5*m1*np.array(v1f)**2, color=\"yellow\")\n",
        "# plt.plot(phi,0.5*m2*np.array(v2f)**2, color=\"green\")"
      ],
      "metadata": {
        "id": "QBwKsMHSEASo"
      },
      "execution_count": 55,
      "outputs": []
    },
    {
      "cell_type": "markdown",
      "source": [
        "# Part A: Collision of protons with different angles"
      ],
      "metadata": {
        "id": "IF0jvfhWIWpc"
      }
    },
    {
      "cell_type": "markdown",
      "source": [
        "### Case 1: angles of the proton, θ = 10 , Φ = 20\n"
      ],
      "metadata": {
        "id": "b0qBfpPU7Ooh"
      }
    },
    {
      "cell_type": "code",
      "source": [
        "import numpy as np\n",
        "from numpy import sin,cos\n",
        "from matplotlib import pyplot as plt\n",
        "vi = 1\n",
        "m1 = 1\n",
        "m2 = 20\n",
        "theta = 10\n",
        "N = 50\n",
        "dphi = 20\n",
        "\n",
        "# phi = np.linspace(dphi,np.pi-dphi,N)\n",
        "\n",
        "v1f = []\n",
        "v2f = []\n",
        "for i in range(len(phi)):\n",
        "    A = np.array([[m1 * cos(phi[i]), m2 * cos(theta)],[-m1 * sin(phi[i]), m2 * sin(theta)]])\n",
        "    b = np.array([m1 * vi, 0])\n",
        "    v1,v2 = np.linalg.solve(A, b)\n",
        "    v1f.append(v1)\n",
        "    v2f.append(v2)\n",
        "\n",
        "plt.xlabel(\"phi\")\n",
        "plt.ylabel(\"Kinetic Energy\")    \n",
        "\n",
        "# plt.plot(phi, v1f, color=\"blue\")\n",
        "# plt.plot(phi, v2f, color=\"red\")\n",
        "\n",
        "plt.plot(phi,0.5*m1*np.array(v1f)**2, color=\"yellow\")\n",
        "plt.plot(phi,0.5*m2*np.array(v2f)**2, color=\"green\")"
      ],
      "metadata": {
        "outputId": "e508e73e-f7d8-435c-9209-c9d934a91626",
        "colab": {
          "base_uri": "https://localhost:8080/",
          "height": 297
        },
        "id": "7Lq2cR7pJZo1"
      },
      "execution_count": 39,
      "outputs": [
        {
          "output_type": "execute_result",
          "data": {
            "text/plain": [
              "[<matplotlib.lines.Line2D at 0x7f6cb1473990>]"
            ]
          },
          "metadata": {},
          "execution_count": 39
        },
        {
          "output_type": "display_data",
          "data": {
            "text/plain": [
              "<Figure size 432x288 with 1 Axes>"
            ],
            "image/png": "[encoded data removed]"
          },
          "metadata": {
            "needs_background": "light"
          }
        }
      ]
    },
    {
      "cell_type": "markdown",
      "source": [
        "### Case 2: angles of the proton, θ = 85 , Φ = 38\n"
      ],
      "metadata": {
        "id": "Bad2b0tDJveJ"
      }
    },
    {
      "cell_type": "code",
      "source": [
        "import numpy as np\n",
        "from numpy import sin,cos\n",
        "from matplotlib import pyplot as plt\n",
        "vi = 1\n",
        "m1 = 1\n",
        "m2 = 20\n",
        "theta = 85\n",
        "dphi = 38\n",
        "\n",
        "# phi = np.linspace(dphi,np.pi-dphi,N)\n",
        "\n",
        "v1f = []\n",
        "v2f = []\n",
        "for i in range(len(phi)):\n",
        "    A = np.array([[m1 * cos(phi[i]), m2 * cos(theta)],[-m1 * sin(phi[i]), m2 * sin(theta)]])\n",
        "    b = np.array([m1 * vi, 0])\n",
        "    v1,v2 = np.linalg.solve(A, b)\n",
        "    v1f.append(v1)\n",
        "    v2f.append(v2)\n",
        "\n",
        "plt.xlabel(\"phi\")\n",
        "plt.ylabel(\"Kinetic Energy\")  \n",
        "\n",
        "# plt.plot(phi, v1f, color=\"blue\")\n",
        "# plt.plot(phi, v2f, color=\"red\")\n",
        "\n",
        "plt.plot(phi,0.5*m1*np.array(v1f)**2, color=\"yellow\")\n",
        "plt.plot(phi,0.5*m2*np.array(v2f)**2, color=\"green\")"
      ],
      "metadata": {
        "colab": {
          "base_uri": "https://localhost:8080/",
          "height": 300
        },
        "id": "IeKJYhSWJyc-",
        "outputId": "f09a6f28-4e5b-4986-fe71-d3053df81f7e"
      },
      "execution_count": 53,
      "outputs": [
        {
          "output_type": "execute_result",
          "data": {
            "text/plain": [
              "[<matplotlib.lines.Line2D at 0x7f6cb13bd250>]"
            ]
          },
          "metadata": {},
          "execution_count": 53
        },
        {
          "output_type": "display_data",
          "data": {
            "text/plain": [
              "<Figure size 432x288 with 1 Axes>"
            ],
            "image/png": "[encoded data removed]"
          },
          "metadata": {
            "needs_background": "light"
          }
        }
      ]
    },
    {
      "cell_type": "markdown",
      "source": [
        "### Case 3: angles of the proton, θ = 180 , Φ = 97\n"
      ],
      "metadata": {
        "id": "HvAAgsZ0OFC5"
      }
    },
    {
      "cell_type": "code",
      "source": [
        "import numpy as np\n",
        "from numpy import sin,cos\n",
        "from matplotlib import pyplot as plt\n",
        "vi = 1\n",
        "m1 = 1\n",
        "m2 = 20\n",
        "theta = 180\n",
        "dphi = 97\n",
        "\n",
        "# phi = np.linspace(dphi,np.pi-dphi,N)\n",
        "\n",
        "v1f = []\n",
        "v2f = []\n",
        "for i in range(len(phi)):\n",
        "    A = np.array([[m1 * cos(phi[i]), m2 * cos(theta)],[-m1 * sin(phi[i]), m2 * sin(theta)]])\n",
        "    b = np.array([m1 * vi, 0])\n",
        "    v1,v2 = np.linalg.solve(A, b)\n",
        "    v1f.append(v1)\n",
        "    v2f.append(v2)\n",
        "\n",
        "plt.xlabel(\"phi\")\n",
        "plt.ylabel(\"Kinetic Energy\")  \n",
        "\n",
        "# plt.plot(phi, v1f, color=\"blue\")\n",
        "# plt.plot(phi, v2f, color=\"red\")\n",
        "\n",
        "plt.plot(phi,0.5*m1*np.array(v1f)**2, color=\"yellow\")\n",
        "plt.plot(phi,0.5*m2*np.array(v2f)**2, color=\"green\")"
      ],
      "metadata": {
        "outputId": "41e43893-2b18-426e-9504-f0322f754e2c",
        "colab": {
          "base_uri": "https://localhost:8080/",
          "height": 297
        },
        "id": "OzUeKHx7OFC6"
      },
      "execution_count": 52,
      "outputs": [
        {
          "output_type": "execute_result",
          "data": {
            "text/plain": [
              "[<matplotlib.lines.Line2D at 0x7f6cb0f02c50>]"
            ]
          },
          "metadata": {},
          "execution_count": 52
        },
        {
          "output_type": "display_data",
          "data": {
            "text/plain": [
              "<Figure size 432x288 with 1 Axes>"
            ],
            "image/png": "[encoded data removed]"
          },
          "metadata": {
            "needs_background": "light"
          }
        }
      ]
    },
    {
      "cell_type": "markdown",
      "source": [
        "### Comment\n"
      ],
      "metadata": {
        "id": "8S1UOBp1Ks4M"
      }
    },
    {
      "cell_type": "markdown",
      "source": [
        "As the graphs clearly show, the angle of the scattered proton has an effect on the energy. The reason for this is that the velocity of the protons changes in the angle change line after scattering."
      ],
      "metadata": {
        "id": "wEWDef2uLe1H"
      }
    },
    {
      "cell_type": "code",
      "source": [
        ""
      ],
      "metadata": {
        "id": "ZhljpKscOsuV"
      },
      "execution_count": null,
      "outputs": []
    }
  ]
}