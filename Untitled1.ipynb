{
  "nbformat": 4,
  "nbformat_minor": 0,
  "metadata": {
    "colab": {
      "name": "Untitled1.ipynb",
      "provenance": [],
      "authorship_tag": "ABX9TyOvHQsGYYNLxyXxTAePPGma",
      "include_colab_link": true
    },
    "kernelspec": {
      "name": "python3",
      "display_name": "Python 3"
    },
    "language_info": {
      "name": "python"
    }
  },
  "cells": [
    {
      "cell_type": "markdown",
      "metadata": {
        "id": "view-in-github",
        "colab_type": "text"
      },
      "source": [
        "<a href=\"https://colab.research.google.com/github/beisaa/beisaa/blob/main/Untitled1.ipynb\" target=\"_parent\"><img src=\"https://colab.research.google.com/assets/colab-badge.svg\" alt=\"Open In Colab\"/></a>"
      ]
    },
    {
      "cell_type": "markdown",
      "source": [
        ""
      ],
      "metadata": {
        "id": "19UXN5rm3gXq"
      }
    },
    {
      "cell_type": "markdown",
      "source": [
        ""
      ],
      "metadata": {
        "id": "dehbX_A43jcr"
      }
    },
    {
      "cell_type": "code",
      "source": [
        "import numpy as np\n",
        "from numpy import sin,cos\n",
        "from matplotlib import pyplot as plt\n",
        "vi = 1\n",
        "m1 = 1\n",
        "m2 = 2\n",
        "theta = 1\n",
        "N = 50\n",
        "dphi = 1/N\n",
        "\n",
        "phi = np.linspace(dphi,np.pi-dphi,N)\n",
        "\n",
        "v1f = []\n",
        "v2f = []\n",
        "for i in range(len(phi)):\n",
        "    A = np.array([[m1 * cos(phi[i]), m2 * cos(theta)] , [-m1 * sin(phi[i]), m2 * sin(theta)]])\n",
        "    b = np.array([m1 * vi, 0])\n",
        "    v1,v2 = np.linalg.solve(A, b)\n",
        "    v1f.append(v1)\n",
        "    v2f.append(v2)\n",
        "\n",
        "    \n",
        "\n",
        "#plt.plot(phi,vf[0])\n",
        "\n",
        "plt.plot(phi, v1f, color=\"blue\")\n",
        "plt.plot(phi, v2f, color=\"red\")\n",
        "\n"
      ],
      "metadata": {
        "colab": {
          "base_uri": "https://localhost:8080/",
          "height": 282
        },
        "id": "LhwGPsEF6jnQ",
        "outputId": "d9adfd2c-6a9b-4a01-860b-6f4fa01926f1"
      },
      "execution_count": 25,
      "outputs": [
        {
          "output_type": "execute_result",
          "data": {
            "text/plain": [
              "[<matplotlib.lines.Line2D at 0x7f161291ec10>]"
            ]
          },
          "metadata": {},
          "execution_count": 25
        },
        {
          "output_type": "display_data",
          "data": {
            "text/plain": [
              "<Figure size 432x288 with 1 Axes>"
            ],
            "image/png": "[encoded data removed]"
          },
          "metadata": {
            "needs_background": "light"
          }
        }
      ]
    },
    {
      "cell_type": "code",
      "source": [
        "from os import kill\n",
        "def kineticEnergy(m1, m2, v1f, v2f):\n",
        " \n",
        "    k1 = 0.5 * m1 * v1f ** 2\n",
        "    k2 = 0.5 * m2 * v2f ** 2\n",
        "    return KineticEnergy\n",
        "\n",
        "kineticEnergy\n",
        "print(kineticEnergy)"
      ],
      "metadata": {
        "colab": {
          "base_uri": "https://localhost:8080/"
        },
        "id": "5vnJ898u4CbZ",
        "outputId": "25999f2c-1473-4739-886b-5c1647d3cdcd"
      },
      "execution_count": 29,
      "outputs": [
        {
          "output_type": "stream",
          "name": "stdout",
          "text": [
            "<function kineticEnergy at 0x7f1612873cb0>\n"
          ]
        }
      ]
    },
    {
      "cell_type": "code",
      "source": [
        ""
      ],
      "metadata": {
        "id": "CwfxrDSZ_q7K"
      },
      "execution_count": null,
      "outputs": []
    }
  ]
}