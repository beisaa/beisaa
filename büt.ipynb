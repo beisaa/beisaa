{
  "nbformat": 4,
  "nbformat_minor": 0,
  "metadata": {
    "colab": {
      "name": "Untitled1.ipynb",
      "provenance": [],
      "toc_visible": true,
      "authorship_tag": "ABX9TyOJvbndLuyUuwNTc5scpykY",
      "include_colab_link": true
    },
    "kernelspec": {
      "name": "python3",
      "display_name": "Python 3"
    },
    "language_info": {
      "name": "python"
    }
  },
  "cells": [
    {
      "cell_type": "markdown",
      "metadata": {
        "id": "view-in-github",
        "colab_type": "text"
      },
      "source": [
        "<a href=\"https://colab.research.google.com/github/beisaa/beisaa/blob/main/b%C3%BCt.ipynb\" target=\"_parent\"><img src=\"https://colab.research.google.com/assets/colab-badge.svg\" alt=\"Open In Colab\"/></a>"
      ]
    },
    {
      "cell_type": "markdown",
      "source": [
        "# Analyse the energy diagrams of proton scattering by a heavy nucleus\n",
        "<i>prepared by Beyzanur Erol (120519054)\n",
        "\n",
        "</i> 03/07/2022"
      ],
      "metadata": {
        "id": "19UXN5rm3gXq"
      }
    },
    {
      "cell_type": "markdown",
      "source": [
        "A proton approaches a very massive nucleus of charge Ze. At infinite separation the energy of the proton is $\\frac{1}{2}M_pV_0^2$. \n",
        "\n",
        "The initial angular momentum of the proton taken about the heavy nucleus is $M_pV_0b$, where $V_0$ is the initial velocity of the proton. At the distance of closest approach, denoted by s, the angular momentum is $M_pV_ss$, where vs is the velocity at this point.\n",
        "\n",
        "$$\n",
        "M_pV_0b = M_pV_ss\n",
        "$$\n",
        "\n",
        "$$\n",
        "V_s = \\frac{V_0 b}{s}\n",
        "$$\n",
        "\n",
        "Suppose a head-on elastic collision occurs between two proton(1 and 2) on a track. We want to know the final velocities for both the proton, but are only given the initial velocities $V_i$. \n",
        "\n",
        "Applying conservation of momentum we can see that we have one equation with two unknowns, V1f and V2f.\n",
        "\n",
        "$$\n",
        "mV_i = m_2V_{2_f} + m_1V_{1_f}\n",
        "$$\n",
        "\n",
        "x direction\n",
        "\n",
        "$$\n",
        "mV_i = m_1V_{1_f} cosΦ +  m_2V_{2_f} cosθ\n",
        "$$\n",
        "\n",
        "y direction\n",
        "\n",
        "$$\n",
        "0 = m_1V_{1_f} sinΦ +  m_2V_{2_f} sinθ\n",
        "$$\n",
        "\n",
        "If we arrange the two equations and solve them with the matrix method\n",
        "\n",
        "$$\n",
        "\\pmatrix{\n",
        "\\mathbf{m_1cosΦ} & \\mathbf{m_2cosθ}  \\\\\n",
        "\\mathbf{-m_1sinΦ} & \\mathbf{m_2sinθ} \n",
        "} \\times\n",
        "\\pmatrix{\n",
        "\\mathbf{V_{1_f}} \\\\\n",
        "\\mathbf{V_{2_f}} \n",
        "} = \\pmatrix{\n",
        "\\mathbf{mV_i} \\\\\n",
        "\\mathbf{0} \n",
        "}\n",
        "$$\n",
        "\n",
        "If we analyze the matrix, we find $V_{1_f}$ and $V_{2_f}$. If we substitute these velocity values ​​we found in the K.E formula, we find $K.E_1$ and $K.E_2$.\n",
        "\n",
        "$$\n",
        "K.E_1 = \\frac{1}{2}m_1V_{1_f} \\\\\n",
        "\\\\\n",
        "K.E_2 = \\frac{1}{2}m_2V_{2_f}\n",
        "$$\n",
        "\n"
      ],
      "metadata": {
        "id": "Qk9T9a_jMIYG"
      }
    },
    {
      "cell_type": "markdown",
      "source": [
        "# Codes"
      ],
      "metadata": {
        "id": "nr7EOH6ELk5G"
      }
    },
    {
      "cell_type": "code",
      "source": [
        "import numpy as np\n",
        "from numpy import sin,cos\n",
        "from matplotlib import pyplot as plt\n",
        "vi = 1\n",
        "m1 = 1\n",
        "m2 = 20\n",
        "theta = 1\n",
        "N = 50\n",
        "dphi = 1/N\n",
        "\n",
        "phi = np.linspace(dphi,np.pi-dphi,N)\n",
        "\n",
        "v1f = []\n",
        "v2f = []\n",
        "for i in range(len(phi)):\n",
        "    A = np.array([[m1 * cos(phi[i]), m2 * cos(theta)],[-m1 * sin(phi[i]), m2 * sin(theta)]])\n",
        "    b = np.array([m1 * vi, 0])\n",
        "    v1,v2 = np.linalg.solve(A, b)\n",
        "    v1f.append(v1)\n",
        "    v2f.append(v2)\n",
        "\n",
        "# plt.xlabel(\"phi(degree)\")\n",
        "# plt.ylabel(\"Kinetic Energy(J)\")\n",
        "\n",
        "# plt.plot(phi, v1f, color=\"blue\")\n",
        "# plt.plot(phi, v2f, color=\"red\")\n",
        "\n",
        "# plt.plot(phi,0.5*m1*np.array(v1f)**2, color=\"yellow\")\n",
        "# plt.plot(phi,0.5*m2*np.array(v2f)**2, color=\"green\")"
      ],
      "metadata": {
        "id": "QBwKsMHSEASo"
      },
      "execution_count": 55,
      "outputs": []
    },
    {
      "cell_type": "markdown",
      "source": [
        "# Part A: Scattering of protons at different Φ angles on the same θ angles."
      ],
      "metadata": {
        "id": "IF0jvfhWIWpc"
      }
    },
    {
      "cell_type": "markdown",
      "source": [
        "### Case 1: angles of the proton, θ = 10 , Φ = 20\n"
      ],
      "metadata": {
        "id": "b0qBfpPU7Ooh"
      }
    },
    {
      "cell_type": "code",
      "source": [
        "import numpy as np\n",
        "from numpy import sin,cos\n",
        "from matplotlib import pyplot as plt\n",
        "vi = 1\n",
        "m1 = 1\n",
        "m2 = 20\n",
        "theta = 10\n",
        "N = 50\n",
        "dphi = 20\n",
        "\n",
        "phi = np.linspace(dphi,np.pi-dphi,N)\n",
        "\n",
        "v1f = []\n",
        "v2f = []\n",
        "for i in range(len(phi)):\n",
        "    A = np.array([[m1 * cos(phi[i]), m2 * cos(theta)],[-m1 * sin(phi[i]), m2 * sin(theta)]])\n",
        "    b = np.array([m1 * vi, 0])\n",
        "    v1,v2 = np.linalg.solve(A, b)\n",
        "    v1f.append(v1)\n",
        "    v2f.append(v2)\n",
        "\n",
        "plt.xlabel(\"phi(degree)\")\n",
        "plt.ylabel(\"Kinetic Energy(J)\")    \n",
        "\n",
        "# plt.plot(phi, v1f, color=\"blue\")\n",
        "# plt.plot(phi, v2f, color=\"red\")\n",
        "\n",
        "plt.plot(phi,0.5*m1*np.array(v1f)**2, color=\"yellow\")\n",
        "plt.plot(phi,0.5*m2*np.array(v2f)**2, color=\"green\")"
      ],
      "metadata": {
        "outputId": "a2dae5c3-4df7-46b9-e10b-d8626824a5ae",
        "colab": {
          "base_uri": "https://localhost:8080/",
          "height": 308
        },
        "id": "7Lq2cR7pJZo1"
      },
      "execution_count": 56,
      "outputs": [
        {
          "output_type": "execute_result",
          "data": {
            "text/plain": [
              "[<matplotlib.lines.Line2D at 0x7f8f57e00590>]"
            ]
          },
          "metadata": {},
          "execution_count": 56
        },
        {
          "output_type": "display_data",
          "data": {
            "text/plain": [
              "<Figure size 432x288 with 1 Axes>"
            ],
            "image/png": "[encoded data removed]"
          },
          "metadata": {
            "needs_background": "light"
          }
        }
      ]
    },
    {
      "cell_type": "markdown",
      "source": [
        "### Case 2: angles of the proton, θ = 10 , Φ = 38\n"
      ],
      "metadata": {
        "id": "Bad2b0tDJveJ"
      }
    },
    {
      "cell_type": "code",
      "source": [
        "import numpy as np\n",
        "from numpy import sin,cos\n",
        "from matplotlib import pyplot as plt\n",
        "vi = 1\n",
        "m1 = 1\n",
        "m2 = 20\n",
        "theta = 10\n",
        "dphi = 38\n",
        "\n",
        "phi = np.linspace(dphi,np.pi-dphi,N)\n",
        "\n",
        "v1f = []\n",
        "v2f = []\n",
        "for i in range(len(phi)):\n",
        "    A = np.array([[m1 * cos(phi[i]), m2 * cos(theta)],[-m1 * sin(phi[i]), m2 * sin(theta)]])\n",
        "    b = np.array([m1 * vi, 0])\n",
        "    v1,v2 = np.linalg.solve(A, b)\n",
        "    v1f.append(v1)\n",
        "    v2f.append(v2)\n",
        "\n",
        "plt.xlabel(\"phi(degree)\")\n",
        "plt.ylabel(\"Kinetic Energy(J)\")  \n",
        "\n",
        "# plt.plot(phi, v1f, color=\"blue\")\n",
        "# plt.plot(phi, v2f, color=\"red\")\n",
        "\n",
        "plt.plot(phi,0.5*m1*np.array(v1f)**2, color=\"yellow\")\n",
        "plt.plot(phi,0.5*m2*np.array(v2f)**2, color=\"green\")"
      ],
      "metadata": {
        "colab": {
          "base_uri": "https://localhost:8080/",
          "height": 297
        },
        "id": "IeKJYhSWJyc-",
        "outputId": "d1abe230-cb98-4b2c-aa02-9e05120d7fc5"
      },
      "execution_count": 57,
      "outputs": [
        {
          "output_type": "execute_result",
          "data": {
            "text/plain": [
              "[<matplotlib.lines.Line2D at 0x7f8f57def1d0>]"
            ]
          },
          "metadata": {},
          "execution_count": 57
        },
        {
          "output_type": "display_data",
          "data": {
            "text/plain": [
              "<Figure size 432x288 with 1 Axes>"
            ],
            "image/png": "[encoded data removed]"
          },
          "metadata": {
            "needs_background": "light"
          }
        }
      ]
    },
    {
      "cell_type": "markdown",
      "source": [
        "### Case 3: angles of the proton, θ = 10 , Φ = 97\n"
      ],
      "metadata": {
        "id": "HvAAgsZ0OFC5"
      }
    },
    {
      "cell_type": "code",
      "source": [
        "import numpy as np\n",
        "from numpy import sin,cos\n",
        "from matplotlib import pyplot as plt\n",
        "vi = 1\n",
        "m1 = 1\n",
        "m2 = 20\n",
        "theta = 10\n",
        "dphi = 97\n",
        "\n",
        "phi = np.linspace(dphi,np.pi-dphi,N)\n",
        "\n",
        "v1f = []\n",
        "v2f = []\n",
        "for i in range(len(phi)):\n",
        "    A = np.array([[m1 * cos(phi[i]), m2 * cos(theta)],[-m1 * sin(phi[i]), m2 * sin(theta)]])\n",
        "    b = np.array([m1 * vi, 0])\n",
        "    v1,v2 = np.linalg.solve(A, b)\n",
        "    v1f.append(v1)\n",
        "    v2f.append(v2)\n",
        "\n",
        "plt.xlabel(\"phi(degree)\")\n",
        "plt.ylabel(\"Kinetic Energy(J)\")  \n",
        "\n",
        "# plt.plot(phi, v1f, color=\"blue\")\n",
        "# plt.plot(phi, v2f, color=\"red\")\n",
        "\n",
        "plt.plot(phi,0.5*m1*np.array(v1f)**2, color=\"yellow\")\n",
        "plt.plot(phi,0.5*m2*np.array(v2f)**2, color=\"green\")"
      ],
      "metadata": {
        "outputId": "73305835-d2db-405f-8f38-283aed8b2d83",
        "colab": {
          "base_uri": "https://localhost:8080/",
          "height": 297
        },
        "id": "OzUeKHx7OFC6"
      },
      "execution_count": 58,
      "outputs": [
        {
          "output_type": "execute_result",
          "data": {
            "text/plain": [
              "[<matplotlib.lines.Line2D at 0x7f8f58547dd0>]"
            ]
          },
          "metadata": {},
          "execution_count": 58
        },
        {
          "output_type": "display_data",
          "data": {
            "text/plain": [
              "<Figure size 432x288 with 1 Axes>"
            ],
            "image/png": "[encoded data removed]"
          },
          "metadata": {
            "needs_background": "light"
          }
        }
      ]
    },
    {
      "cell_type": "markdown",
      "source": [
        "### Comment\n"
      ],
      "metadata": {
        "id": "8S1UOBp1Ks4M"
      }
    },
    {
      "cell_type": "markdown",
      "source": [
        "A constant change in the theta angle and a change in the phi angle will have an effect on the proton of mass $m_1$. Increasing this angle value decreases the cos value as well as the sin value. Because in the equations we examined with the matrix method, the coefficients of our cos and sin values ​​with a coefficient of $m_1$ are positive and negative, respectively. Even though the sin value increases when the angle value increases, the negative coefficient at the beginning decreases this value. This means that its speed will vary continuously between these two factors. This change in decreasing or increasing the velocity will cause changes on the energies of the protons. That is, an increase in speed actually means an increase in kinetic energy. In other words, the faster the proton, the higher the energy value."
      ],
      "metadata": {
        "id": "wEWDef2uLe1H"
      }
    },
    {
      "cell_type": "markdown",
      "source": [
        "# Part B: Scattering of protons at different θ angles on the same Φ angles."
      ],
      "metadata": {
        "id": "LxXZQ_4Sj0pA"
      }
    },
    {
      "cell_type": "markdown",
      "source": [
        "### Case 1: angles of the proton, θ = 57 , Φ = 20\n"
      ],
      "metadata": {
        "id": "Da7WgSRoj35i"
      }
    },
    {
      "cell_type": "code",
      "source": [
        "import numpy as np\n",
        "from numpy import sin,cos\n",
        "from matplotlib import pyplot as plt\n",
        "vi = 1\n",
        "m1 = 1\n",
        "m2 = 20\n",
        "theta = 57\n",
        "N = 50\n",
        "dphi = 20\n",
        "\n",
        "phi = np.linspace(dphi,np.pi-dphi,N)\n",
        "\n",
        "v1f = []\n",
        "v2f = []\n",
        "for i in range(len(phi)):\n",
        "    A = np.array([[m1 * cos(phi[i]), m2 * cos(theta)],[-m1 * sin(phi[i]), m2 * sin(theta)]])\n",
        "    b = np.array([m1 * vi, 0])\n",
        "    v1,v2 = np.linalg.solve(A, b)\n",
        "    v1f.append(v1)\n",
        "    v2f.append(v2)\n",
        "\n",
        "plt.xlabel(\"phi(degree)\")\n",
        "plt.ylabel(\"Kinetic Energy(J)\")    \n",
        "\n",
        "# plt.plot(phi, v1f, color=\"blue\")\n",
        "# plt.plot(phi, v2f, color=\"red\")\n",
        "\n",
        "plt.plot(phi,0.5*m1*np.array(v1f)**2, color=\"yellow\")\n",
        "plt.plot(phi,0.5*m2*np.array(v2f)**2, color=\"green\")"
      ],
      "metadata": {
        "outputId": "c3170ce0-ed22-4b9e-8e78-38fb9b7beec6",
        "colab": {
          "base_uri": "https://localhost:8080/",
          "height": 297
        },
        "id": "Rc4jKPZ_j35j"
      },
      "execution_count": 59,
      "outputs": [
        {
          "output_type": "execute_result",
          "data": {
            "text/plain": [
              "[<matplotlib.lines.Line2D at 0x7f8f57f3fb10>]"
            ]
          },
          "metadata": {},
          "execution_count": 59
        },
        {
          "output_type": "display_data",
          "data": {
            "text/plain": [
              "<Figure size 432x288 with 1 Axes>"
            ],
            "image/png": "[encoded data removed]"
          },
          "metadata": {
            "needs_background": "light"
          }
        }
      ]
    },
    {
      "cell_type": "markdown",
      "source": [
        "### Case 2: angles of the proton, θ = 168 , Φ = 20\n"
      ],
      "metadata": {
        "id": "TijuMNSuj4D_"
      }
    },
    {
      "cell_type": "code",
      "source": [
        "import numpy as np\n",
        "from numpy import sin,cos\n",
        "from matplotlib import pyplot as plt\n",
        "vi = 1\n",
        "m1 = 1\n",
        "m2 = 20\n",
        "theta = 168\n",
        "N = 50\n",
        "dphi = 20\n",
        "\n",
        "phi = np.linspace(dphi,np.pi-dphi,N)\n",
        "\n",
        "v1f = []\n",
        "v2f = []\n",
        "for i in range(len(phi)):\n",
        "    A = np.array([[m1 * cos(phi[i]), m2 * cos(theta)],[-m1 * sin(phi[i]), m2 * sin(theta)]])\n",
        "    b = np.array([m1 * vi, 0])\n",
        "    v1,v2 = np.linalg.solve(A, b)\n",
        "    v1f.append(v1)\n",
        "    v2f.append(v2)\n",
        "\n",
        "plt.xlabel(\"phi(degree)\")\n",
        "plt.ylabel(\"Kinetic Energy(J)\")    \n",
        "\n",
        "# plt.plot(phi, v1f, color=\"blue\")\n",
        "# plt.plot(phi, v2f, color=\"red\")\n",
        "\n",
        "plt.plot(phi,0.5*m1*np.array(v1f)**2, color=\"yellow\")\n",
        "plt.plot(phi,0.5*m2*np.array(v2f)**2, color=\"green\")"
      ],
      "metadata": {
        "outputId": "f4503bf8-5cbb-4697-c792-26d2f49913d4",
        "colab": {
          "base_uri": "https://localhost:8080/",
          "height": 297
        },
        "id": "bBnpU53tj4EA"
      },
      "execution_count": 60,
      "outputs": [
        {
          "output_type": "execute_result",
          "data": {
            "text/plain": [
              "[<matplotlib.lines.Line2D at 0x7f8f580f6e90>]"
            ]
          },
          "metadata": {},
          "execution_count": 60
        },
        {
          "output_type": "display_data",
          "data": {
            "text/plain": [
              "<Figure size 432x288 with 1 Axes>"
            ],
            "image/png": "[encoded data removed]"
          },
          "metadata": {
            "needs_background": "light"
          }
        }
      ]
    },
    {
      "cell_type": "markdown",
      "source": [
        "### Case 3: angles of the proton, θ = 289 , Φ = 20\n"
      ],
      "metadata": {
        "id": "a7ZeI4pUj4n4"
      }
    },
    {
      "cell_type": "code",
      "source": [
        "import numpy as np\n",
        "from numpy import sin,cos\n",
        "from matplotlib import pyplot as plt\n",
        "vi = 1\n",
        "m1 = 1\n",
        "m2 = 20\n",
        "theta = 289\n",
        "N = 50\n",
        "dphi = 20\n",
        "\n",
        "phi = np.linspace(dphi,np.pi-dphi,N)\n",
        "\n",
        "v1f = []\n",
        "v2f = []\n",
        "for i in range(len(phi)):\n",
        "    A = np.array([[m1 * cos(phi[i]), m2 * cos(theta)],[-m1 * sin(phi[i]), m2 * sin(theta)]])\n",
        "    b = np.array([m1 * vi, 0])\n",
        "    v1,v2 = np.linalg.solve(A, b)\n",
        "    v1f.append(v1)\n",
        "    v2f.append(v2)\n",
        "\n",
        "plt.xlabel(\"phi(degree)\")\n",
        "plt.ylabel(\"Kinetic Energy(J)\")    \n",
        "\n",
        "# plt.plot(phi, v1f, color=\"blue\")\n",
        "# plt.plot(phi, v2f, color=\"red\")\n",
        "\n",
        "plt.plot(phi,0.5*m1*np.array(v1f)**2, color=\"yellow\")\n",
        "plt.plot(phi,0.5*m2*np.array(v2f)**2, color=\"green\")"
      ],
      "metadata": {
        "outputId": "ac1d44ec-b2e6-49a8-f078-3134ff4e5e9c",
        "colab": {
          "base_uri": "https://localhost:8080/",
          "height": 297
        },
        "id": "2J43uAUEj4n6"
      },
      "execution_count": 65,
      "outputs": [
        {
          "output_type": "execute_result",
          "data": {
            "text/plain": [
              "[<matplotlib.lines.Line2D at 0x7f8f57bf1150>]"
            ]
          },
          "metadata": {},
          "execution_count": 65
        },
        {
          "output_type": "display_data",
          "data": {
            "text/plain": [
              "<Figure size 432x288 with 1 Axes>"
            ],
            "image/png": "[encoded data removed]"
          },
          "metadata": {
            "needs_background": "light"
          }
        }
      ]
    },
    {
      "cell_type": "markdown",
      "source": [
        "### Comment\n"
      ],
      "metadata": {
        "id": "jW9Ol69aoKpr"
      }
    },
    {
      "cell_type": "markdown",
      "source": [
        "A constant change of the phi angle and a change in theta angle will have an effect on the proton with mass $m_2$. Increasing this angle value increases the sine value, but decreases the cos value. This means that its speed will increase or decrease between these two factors. This change in decreasing or increasing the velocity will cause changes on the energies of the protons. Namely, we can observe that when its speed increases, its energy increases and when it decreases, there is a loss of energy."
      ],
      "metadata": {
        "id": "1t3Xcf9PoMni"
      }
    },
    {
      "cell_type": "markdown",
      "source": [
        "## Conclusion\n",
        "\n",
        "As can be clearly seen from the graphs, the angle of the scattered proton has an effect on the energy. \n",
        "\n",
        "This is because the velocity of the protons changes in the angle change line."
      ],
      "metadata": {
        "id": "va8x_P8JBmSa"
      }
    },
    {
      "cell_type": "markdown",
      "source": [
        "## Reference\n",
        "\n",
        "1. Toppr contributors. Collision. In Toppr, Collision, July 2, 2022, from https://www.toppr.com/guides/physics/work-energy-and-power/collisions/\n",
        "\n",
        "2. Wikipedia contributors. (2022, June 1). Scattering. In Wikipedia, Retrieved 12:21, July 2 , 2022, from from https://en.wikipedia.org/wiki/Scattering\n",
        "\n",
        "3. Victoria Martin contributors. PPNotes3.pdf Documentation.  Retrieved 10:04, July 3, 2022, from https://www2.ph.ed.ac.uk/~vjm/Lectures/SHParticlePhysics2012_files/PPNotes3.pdf \n",
        "\n",
        "4. GeeksforGeeks contributors.(Helpful in writing python code.) July 2-3, 2022, from https://www.geeksforgeeks.org/python-programming-language/?ref=shm\n",
        "\n",
        "5. learpython.org contributors. July 2-3, 2022, from https://www.learnpython.org/"
      ],
      "metadata": {
        "id": "22IUbvDIvrif"
      }
    }
  ]
}